{
 "cells": [
  {
   "cell_type": "code",
   "execution_count": null,
   "id": "dcaad3c1-44f3-419c-88dc-ce87c885861e",
   "metadata": {},
   "outputs": [],
   "source": [
    "import numpy as np"
   ]
  },
  {
   "cell_type": "code",
   "execution_count": null,
   "id": "d520a66a-350d-434c-95c5-21b392712a4a",
   "metadata": {},
   "outputs": [],
   "source": [
    "import pandas as pd"
   ]
  },
  {
   "cell_type": "code",
   "execution_count": null,
   "id": "e7a424a2-a0aa-441a-9e9a-7f0f79c8fc8d",
   "metadata": {},
   "outputs": [],
   "source": [
    "from sklearn.feature_extraction import text\n",
    "from sklearn.metrics.pairwise import cosine_similarity "
   ]
  },
  {
   "cell_type": "code",
   "execution_count": null,
   "id": "5567db4e-2741-42d3-9218-f4b0e914a117",
   "metadata": {},
   "outputs": [
    {
     "name": "stdout",
     "output_type": "stream",
     "text": [
      "                                 Show Id                                Title  \\\n",
      "0   cc1b6ed9-cf9e-4057-8303-34577fb54477                             (Un)Well   \n",
      "1   e2ef4e91-fb25-42ab-b485-be8e3b23dedb                               #Alive   \n",
      "2   b01b73b7-81f6-47a7-86d8-acb63080d525        #AnneFrank - Parallel Stories   \n",
      "3   b6611af0-f53c-4a08-9ffa-9716dc57eb9c                             #blackAF   \n",
      "4   7f2d4170-bab8-4d75-adc2-197f7124c070                     #cats_the_mewvie   \n",
      "5   c293788a-41f7-49a3-a7fc-005ea33bce2b                    #FriendButMarried   \n",
      "6   0555e67e-f624-4a05-93e4-55c117d0056d                  #FriendButMarried 2   \n",
      "7   c844460f-6178-4f87-929e-80816c74ca35                         #realityhigh   \n",
      "8   8b34e0e9-7258-4e49-b799-2e7eddbd7e34                            #Rucker50   \n",
      "9   6da2fc83-1546-4e9d-bf2e-9b472a059c18                              #Selfie   \n",
      "10  2aa7f08b-0321-4398-baa9-4a138f8cb9e9                           #Selfie 69   \n",
      "11  ea94d1e2-dfb5-4fb0-b941-ca4b1ade98c1                  10 Days in Sun City   \n",
      "12  eb2818f5-d01b-46fe-8797-931a767d5831                       10 jours en or   \n",
      "13  91c48de3-5bc6-43e8-ae4c-944a0b190687                   100 Days My Prince   \n",
      "14  3ad83357-9327-48bb-b89d-862d61b5801e                           100 Humans   \n",
      "15  94f39a7c-7d6e-47bc-9dc2-3db2c81c0e73                           100 Meters   \n",
      "16  be9959ea-11c2-4783-ba53-ba4627a2c974  100 Things to do Before High School   \n",
      "17  541d3749-9908-4eae-acf0-8dcb68aa76df                           100% Halal   \n",
      "18  f5f2e34f-903d-4f77-9de5-31d8be73d305                      1000 Rupee Note   \n",
      "19  38055016-5475-41cc-af4b-a9610bacaa25                                  122   \n",
      "\n",
      "                                          Description  \\\n",
      "0   This docuseries takes a deep dive into the luc...   \n",
      "1   As a grisly virus rampages a city, a lone man ...   \n",
      "2   Through her diary, Anne Frank's story is retol...   \n",
      "3   Kenya Barris and his family navigate relations...   \n",
      "4   This pawesome documentary explores how our fel...   \n",
      "5   Pining for his high school crush for years, a ...   \n",
      "6   As Ayu and Ditto finally transition from best ...   \n",
      "7   When nerdy high schooler Dani finally attracts...   \n",
      "8   This documentary celebrates the 50th anniversa...   \n",
      "9   Two days before their final exams, three teen ...   \n",
      "10  After a painful breakup, a trio of party-lovin...   \n",
      "11  After his girlfriend wins the Miss Nigeria pag...   \n",
      "12  When a carefree bachelor is unexpectedly left ...   \n",
      "13  Upon losing his memory, a crown prince encount...   \n",
      "14  One hundred hardy souls from diverse backgroun...   \n",
      "15  A man who is diagnosed with multiple sclerosis...   \n",
      "16  Led by seventh-grader C.J., three students who...   \n",
      "17  After high school, a young woman marries the m...   \n",
      "18  After randomly receiving a handsome political ...   \n",
      "19  After an awful accident, a couple admitted to ...   \n",
      "\n",
      "                       Director  \\\n",
      "0                           NaN   \n",
      "1                        Cho Il   \n",
      "2   Sabina Fedeli, Anna Migotto   \n",
      "3                           NaN   \n",
      "4              Michael Margolis   \n",
      "5                 Rako Prijanto   \n",
      "6                 Rako Prijanto   \n",
      "7              Fernando Lebrija   \n",
      "8         Robert McCullough Jr.   \n",
      "9                Cristina Jacob   \n",
      "10               Cristina Jacob   \n",
      "11                    Adze Ugah   \n",
      "12            Nicolas Brossette   \n",
      "13                          NaN   \n",
      "14                          NaN   \n",
      "15               Marcel Barrena   \n",
      "16                          NaN   \n",
      "17                Jastis Arimba   \n",
      "18               Shrihari Sathe   \n",
      "19              Yasir Al Yasiri   \n",
      "\n",
      "                                               Genres  \\\n",
      "0                                          Reality TV   \n",
      "1      Horror Movies, International Movies, Thrillers   \n",
      "2                 Documentaries, International Movies   \n",
      "3                                         TV Comedies   \n",
      "4                 Documentaries, International Movies   \n",
      "5       Dramas, International Movies, Romantic Movies   \n",
      "6       Dramas, International Movies, Romantic Movies   \n",
      "7                                            Comedies   \n",
      "8                        Documentaries, Sports Movies   \n",
      "9              Comedies, Dramas, International Movies   \n",
      "10             Comedies, Dramas, International Movies   \n",
      "11    Comedies, International Movies, Romantic Movies   \n",
      "12             Comedies, Dramas, International Movies   \n",
      "13  International TV Shows, Romantic TV Shows, TV ...   \n",
      "14                    Docuseries, Science & Nature TV   \n",
      "15        Dramas, International Movies, Sports Movies   \n",
      "16                                             Movies   \n",
      "17                       Dramas, International Movies   \n",
      "18                       Dramas, International Movies   \n",
      "19                Horror Movies, International Movies   \n",
      "\n",
      "                                                 Cast     Production Country  \\\n",
      "0                                                 NaN          United States   \n",
      "1                            Yoo Ah-in, Park Shin-hye            South Korea   \n",
      "2                         Helen Mirren, Gengher Gatti                  Italy   \n",
      "3   Kenya Barris, Rashida Jones, Iman Benson, Genn...          United States   \n",
      "4                                                 NaN                 Canada   \n",
      "5   Adipati Dolken, Vanesha Prescilla, Rendi Jhon,...              Indonesia   \n",
      "6   Adipati Dolken, Mawar de Jongh, Sari Nila, Von...              Indonesia   \n",
      "7   Nesta Cooper, Kate Walsh, John Michael Higgins...          United States   \n",
      "8                                                 NaN          United States   \n",
      "9   Flavia Hojda, Crina Semciuc, Olimpia Melinte, ...                Romania   \n",
      "10  Maia Morgenstern, Olimpia Melinte, Crina Semci...                Romania   \n",
      "11  Ayo Makun, Adesua Etomi, Richard Mofe-Damijo, ...  South Africa, Nigeria   \n",
      "12  Franck Dubosc, Claude Rich, Marie Kremer, Math...                 France   \n",
      "13  Doh Kyung-soo, Nam Ji-hyun, Cho Seong-ha, Cho ...            South Korea   \n",
      "14             Zainab Johnson, Sammy Obeid, Alie Ward          United States   \n",
      "15  Dani Rovira, Karra Elejalde, Alexandra Jiménez...        Portugal, Spain   \n",
      "16  Isabela Moner, Jaheem Toombs, Owen Joyner, Jac...          United States   \n",
      "17  Anisa Rahma, Ariyo Wahab, Anandito Dwis, Fitri...              Indonesia   \n",
      "18  Usha Naik, Sandeep Pathak, Shrikant Yadav, Gan...                  India   \n",
      "19  Amina Khalil, Ahmed Dawood, Tarek Lotfy, Ahmed...                  Egypt   \n",
      "\n",
      "    Release Date Rating  Duration Imdb Score Content Type         Date Added  \n",
      "0         2020.0  TV-MA  1 Season     6.6/10      TV Show                NaN  \n",
      "1         2020.0  TV-MA    99 min     6.2/10        Movie  September 8, 2020  \n",
      "2         2019.0  TV-14    95 min     6.4/10        Movie       July 1, 2020  \n",
      "3         2020.0  TV-MA  1 Season     6.6/10      TV Show                NaN  \n",
      "4         2020.0  TV-14    90 min     5.1/10        Movie   February 5, 2020  \n",
      "5         2018.0   TV-G   102 min     7.0/10        Movie       May 21, 2020  \n",
      "6         2020.0   TV-G   104 min     7.0/10        Movie      June 28, 2020  \n",
      "7         2017.0  TV-14    99 min     5.1/10        Movie  September 8, 2017  \n",
      "8         2016.0  TV-PG    56 min     5.1/10        Movie   December 1, 2016  \n",
      "9         2014.0  TV-MA   125 min     5.8/10        Movie      June 21, 2021  \n",
      "10        2016.0  TV-MA   119 min     6.0/10        Movie      June 21, 2021  \n",
      "11        2017.0  TV-14    87 min     5.1/10        Movie   October 18, 2019  \n",
      "12        2012.0  TV-14    97 min     6.1/10        Movie       July 1, 2017  \n",
      "13        2018.0  TV-14  1 Season     7.5/10      TV Show                NaN  \n",
      "14        2020.0  TV-14  1 Season     5.5/10      TV Show                NaN  \n",
      "15        2016.0  TV-MA   109 min     7.6/10        Movie     March 10, 2017  \n",
      "16        2014.0   TV-Y    44 min     6.5/10        Movie   November 2, 2019  \n",
      "17        2020.0  TV-14   101 min     6.7/10        Movie    January 7, 2021  \n",
      "18        2014.0  TV-14    89 min     7.4/10        Movie   December 1, 2016  \n",
      "19        2019.0  TV-MA    95 min     6.1/10        Movie       June 1, 2020  \n"
     ]
    }
   ],
   "source": [
    "d = pd.read_csv(\"netflixData.csv\")\n",
    "print(data.head(20))"
   ]
  },
  {
   "cell_type": "code",
   "execution_count": null,
   "id": "2a4a143c-ea88-4b3e-b106-a240c6cd962f",
   "metadata": {},
   "outputs": [
    {
     "name": "stdout",
     "output_type": "stream",
     "text": [
      "Show Id                  0\n",
      "Title                    0\n",
      "Description              0\n",
      "Director              2064\n",
      "Genres                   0\n",
      "Cast                   530\n",
      "Production Country     559\n",
      "Release Date             3\n",
      "Rating                   4\n",
      "Duration                 3\n",
      "Imdb Score             608\n",
      "Content Type             0\n",
      "Date Added            1335\n",
      "dtype: int64\n"
     ]
    }
   ],
   "source": [
    "print(data.isnull().sum())"
   ]
  },
  {
   "cell_type": "code",
   "execution_count": null,
   "id": "4319dbc9-5949-4935-bcea-65584b2c19ca",
   "metadata": {},
   "outputs": [
    {
     "name": "stdout",
     "output_type": "stream",
     "text": [
      "                                   Show Id                          Title  \\\n",
      "0     cc1b6ed9-cf9e-4057-8303-34577fb54477                       (Un)Well   \n",
      "1     e2ef4e91-fb25-42ab-b485-be8e3b23dedb                         #Alive   \n",
      "2     b01b73b7-81f6-47a7-86d8-acb63080d525  #AnneFrank - Parallel Stories   \n",
      "3     b6611af0-f53c-4a08-9ffa-9716dc57eb9c                       #blackAF   \n",
      "4     7f2d4170-bab8-4d75-adc2-197f7124c070               #cats_the_mewvie   \n",
      "...                                    ...                            ...   \n",
      "5962  62b8b682-f191-4c10-aa04-32319329bd8d                      الف مبروك   \n",
      "5963  5bed77ab-5e31-4216-8b51-44c9a35442e6                   دفعة القاهرة   \n",
      "5964  4661ec0c-8692-4661-bc76-a96412b311fd                           海的儿子   \n",
      "5965  145c93a7-1924-403c-a933-4ede8ad66f26                        반드시 잡는다   \n",
      "5966  d4613d34-cb71-4bd6-b570-fa857f02c44d            최강전사 미니특공대 : 영웅의 탄생   \n",
      "\n",
      "                                            Description  \\\n",
      "0     This docuseries takes a deep dive into the luc...   \n",
      "1     As a grisly virus rampages a city, a lone man ...   \n",
      "2     Through her diary, Anne Frank's story is retol...   \n",
      "3     Kenya Barris and his family navigate relations...   \n",
      "4     This pawesome documentary explores how our fel...   \n",
      "...                                                 ...   \n",
      "5962  On his wedding day, an arrogant, greedy accoun...   \n",
      "5963  A group of women leaves Kuwait to attend unive...   \n",
      "5964  Two brothers start a new life in Singapore, wh...   \n",
      "5965  After people in his town start turning up dead...   \n",
      "5966  Miniforce, a special task force of elite range...   \n",
      "\n",
      "                         Director  \\\n",
      "0                             NaN   \n",
      "1                          Cho Il   \n",
      "2     Sabina Fedeli, Anna Migotto   \n",
      "3                             NaN   \n",
      "4                Michael Margolis   \n",
      "...                           ...   \n",
      "5962            Ahmed Nader Galal   \n",
      "5963                          NaN   \n",
      "5964                          NaN   \n",
      "5965                Hong-seon Kim   \n",
      "5966                Young Jun Lee   \n",
      "\n",
      "                                              Genres  \\\n",
      "0                                         Reality TV   \n",
      "1     Horror Movies, International Movies, Thrillers   \n",
      "2                Documentaries, International Movies   \n",
      "3                                        TV Comedies   \n",
      "4                Documentaries, International Movies   \n",
      "...                                              ...   \n",
      "5962          Comedies, Dramas, International Movies   \n",
      "5963               International TV Shows, TV Dramas   \n",
      "5964               International TV Shows, TV Dramas   \n",
      "5965         Dramas, International Movies, Thrillers   \n",
      "5966                        Children & Family Movies   \n",
      "\n",
      "                                                   Cast Production Country  \\\n",
      "0                                                   NaN      United States   \n",
      "1                              Yoo Ah-in, Park Shin-hye        South Korea   \n",
      "2                           Helen Mirren, Gengher Gatti              Italy   \n",
      "3     Kenya Barris, Rashida Jones, Iman Benson, Genn...      United States   \n",
      "4                                                   NaN             Canada   \n",
      "...                                                 ...                ...   \n",
      "5962  Ahmed Helmy, Laila Ezz El Arab, Mahmoud El Fis...              Egypt   \n",
      "5963  Bashar al-Shatti, Fatima Al Safi, Maram Baloch...                NaN   \n",
      "5964  Li Nanxing, Christopher Lee, Jesseca Liu, Appl...                NaN   \n",
      "5965                                      Baek Yoon-sik        South Korea   \n",
      "5966  Um Sang-hyun, Yang Jeong-hwa, Jeon Tae-yeol, S...                NaN   \n",
      "\n",
      "      Release Date Rating  Duration Imdb Score Content Type         Date Added  \n",
      "0           2020.0  TV-MA  1 Season     6.6/10      TV Show                NaN  \n",
      "1           2020.0  TV-MA    99 min     6.2/10        Movie  September 8, 2020  \n",
      "2           2019.0  TV-14    95 min     6.4/10        Movie       July 1, 2020  \n",
      "3           2020.0  TV-MA  1 Season     6.6/10      TV Show                NaN  \n",
      "4           2020.0  TV-14    90 min     5.1/10        Movie   February 5, 2020  \n",
      "...            ...    ...       ...        ...          ...                ...  \n",
      "5962        2009.0  TV-14   115 min     7.4/10        Movie     April 25, 2020  \n",
      "5963        2019.0  TV-14  1 Season        NaN      TV Show                NaN  \n",
      "5964        2016.0  TV-14  1 Season        NaN      TV Show                NaN  \n",
      "5965        2017.0  TV-MA   110 min     6.5/10        Movie  February 28, 2018  \n",
      "5966        2018.0  TV-Y7    68 min     4.7/10        Movie  September 1, 2018  \n",
      "\n",
      "[5967 rows x 13 columns]\n"
     ]
    }
   ],
   "source": [
    "print(data)"
   ]
  },
  {
   "cell_type": "code",
   "execution_count": null,
   "id": "26fd7819-41fc-4564-8d47-ddc7e583d08d",
   "metadata": {},
   "outputs": [],
   "source": [
    "import re"
   ]
  },
  {
   "cell_type": "code",
   "execution_count": null,
   "id": "5d5c056a-19ac-4e36-83e6-a98a5b39e5cc",
   "metadata": {},
   "outputs": [],
   "source": [
    "import nltk"
   ]
  },
  {
   "cell_type": "code",
   "execution_count": null,
   "id": "60c19f3e-b273-48c0-a31f-f0c81688922c",
   "metadata": {},
   "outputs": [
    {
     "name": "stderr",
     "output_type": "stream",
     "text": [
      "[nltk_data] Downloading package stopwords to\n",
      "[nltk_data]     C:\\Users\\ayush\\AppData\\Roaming\\nltk_data...\n",
      "[nltk_data]   Unzipping corpora\\stopwords.zip.\n"
     ]
    },
    {
     "data": {
      "text/plain": [
       "True"
      ]
     },
     "execution_count": 3,
     "metadata": {},
     "output_type": "execute_result"
    }
   ],
   "source": [
    "nltk.download('stopwords')"
   ]
  },
  {
   "cell_type": "code",
   "execution_count": null,
   "id": "f242b7f0-b767-4b4c-b97a-4035db04da78",
   "metadata": {},
   "outputs": [],
   "source": [
    "stemmer = nltk.SnowballStemmer(\"english\")\n",
    "from nltk.corpus import stopwords\n",
    "import string \n",
    "stopword = set(stopwords.words('english'))"
   ]
  },
  {
   "cell_type": "code",
   "execution_count": null,
   "id": "12a81c3b-e385-4769-97f3-10c421980237",
   "metadata": {},
   "outputs": [],
   "source": [
    "def clean(text):\n",
    "    text = str(text).lower()\n",
    "    text = re.sub( '\\[.*?\\]', '',text)\n",
    "    text = re.sub('https?://\\S+' , '', text)\n",
    "    text = re.sub('<.?+', '',text)\n",
    "    text = re.sub('[%s]','',text)\n",
    "    text = re.sub('\\n','',text)\n",
    "    text = re.sub('\\w*\\d\\w*','',text)\n",
    "\n",
    "    text = [word for word in text.split('') if word not in stopword]\n",
    "    text = \"\".join(text)\n",
    "\n"
   ]
  },
  {
   "cell_type": "markdown",
   "id": "271c5b0d",
   "metadata": {},
   "source": []
  },
  {
   "cell_type": "code",
   "execution_count": null,
   "id": "0f98e2bd-548c-403d-924c-cefe06c27f6f",
   "metadata": {},
   "outputs": [
    {
     "name": "stdout",
     "output_type": "stream",
     "text": [
      "ex =  This is a great movie \n",
      "\n",
      "ex1 =  ['This', 'is', 'a', 'great', 'movie']\n",
      "This\n",
      "is\n",
      "a\n",
      "great\n",
      "movie\n",
      "<bound method NDFrame.sample of 0                            (Un)Well\n",
      "1                              #Alive\n",
      "2       #AnneFrank - Parallel Stories\n",
      "3                            #blackAF\n",
      "4                    #cats_the_mewvie\n",
      "                    ...              \n",
      "5962                        الف مبروك\n",
      "5963                     دفعة القاهرة\n",
      "5964                             海的儿子\n",
      "5965                          반드시 잡는다\n",
      "5966              최강전사 미니특공대 : 영웅의 탄생\n",
      "Name: Title, Length: 5967, dtype: object>\n"
     ]
    }
   ],
   "source": [
    "ex = \"This is a great movie\"\n",
    "print(\"ex = \" , ex , \"\\n\")\n",
    "ex1 = ex.split(\" \")\n",
    "print(\"ex1 = \" ,ex1)\n",
    "\n",
    "for i in ex1:\n",
    "    print(i)\n",
    "\n",
    "print(data.Title.sample)\n"
   ]
  },
  {
   "cell_type": "code",
   "execution_count": null,
   "id": "6dc06a9e-d562-438d-9dfe-639c6e2c1140",
   "metadata": {},
   "outputs": [
    {
     "name": "stdout",
     "output_type": "stream",
     "text": [
      "20              Crime TV Shows, TV Dramas, TV Mysteries\n",
      "21                           Crime TV Shows, Docuseries\n",
      "22                                        Documentaries\n",
      "23                                        Documentaries\n",
      "24                 Comedies, Dramas, Independent Movies\n",
      "                            ...                        \n",
      "95    Children & Family Movies, Dramas, Romantic Movies\n",
      "96    Children & Family Movies, Dramas, Romantic Movies\n",
      "97                                               Movies\n",
      "98    Children & Family Movies, Comedies, Music & Mu...\n",
      "99                  Horror Movies, International Movies\n",
      "Name: Genres, Length: 80, dtype: object\n"
     ]
    }
   ],
   "source": [
    "print(data.Genres[20:100])"
   ]
  },
  {
   "cell_type": "code",
   "execution_count": null,
   "id": "5bc396dc-07af-4ac8-839a-cb4d2a73802a",
   "metadata": {},
   "outputs": [],
   "source": [
    "from sklearn.feature_extraction.text import TfidfVectorizer\n",
    "\n",
    "vectorizer = TfidfVectorizer(stop_words =\"english\")"
   ]
  },
  {
   "cell_type": "code",
   "execution_count": null,
   "id": "9505ecc6-16cd-4874-babd-5f3342f4c460",
   "metadata": {},
   "outputs": [],
   "source": [
    "from sklearn.metrics.pairwise import cosine_similarity"
   ]
  },
  {
   "cell_type": "code",
   "execution_count": null,
   "id": "65252ffc-1a8d-4e6b-b05b-b52cde7637b2",
   "metadata": {},
   "outputs": [],
   "source": [
    "vectorizer = TfidfVectorizer(stop_words =\"english\")"
   ]
  },
  {
   "cell_type": "code",
   "execution_count": null,
   "id": "6a9d1d5f-28ab-46b2-8a0f-a085a267ed7d",
   "metadata": {},
   "outputs": [],
   "source": [
    "tfidf_matrix = vectorizer.fit_transform(feature)"
   ]
  },
  {
   "cell_type": "code",
   "execution_count": null,
   "id": "8c0da6e1-9985-45f7-aadc-4d17b4df74a5",
   "metadata": {},
   "outputs": [],
   "source": [
    "feature= data[\"Genres\"].tolist()"
   ]
  },
  {
   "cell_type": "code",
   "execution_count": null,
   "id": "81f491e4-6956-4f59-a121-95a2a93c5694",
   "metadata": {},
   "outputs": [],
   "source": [
    "indices = pd.Series(data.index,\n",
    "                     index=data['Title']).drop_duplicates()"
   ]
  },
  {
   "cell_type": "code",
   "execution_count": null,
   "id": "f1ca8b74-ea9b-463a-997d-97fb7456b7f3",
   "metadata": {},
   "outputs": [],
   "source": [
    "similarity = cosine_similarity(tfidf_matrix)"
   ]
  },
  {
   "cell_type": "code",
   "execution_count": null,
   "id": "2bc33c1b-e2a1-4359-a01b-29ca106f132a",
   "metadata": {},
   "outputs": [],
   "source": [
    "def netflix_recommendation(title,similarity = similarity):\n",
    "    index = indices[title]\n",
    "    similairty_scores = list(enumrate(similarity[index]))\n",
    "    similairty_scores = sorted(similairty_scores, key = lambda x: x[1])\n",
    "    similairty_scores = similairty_scores[0:10]\n",
    "    movieindices = [i[0] for i in similairty_scores]\n",
    "    return data['Title'].iloc[movieindices]"
   ]
  },
  {
   "cell_type": "code",
   "execution_count": null,
   "id": "39007202",
   "metadata": {},
   "outputs": [],
   "source": []
  }
 ],
 "metadata": {
  "kernelspec": {
   "display_name": "Python 3 (ipykernel)",
   "language": "python",
   "name": "python3"
  },
  "language_info": {
   "codemirror_mode": {
    "name": "ipython",
    "version": 3
   },
   "file_extension": ".py",
   "mimetype": "text/x-python",
   "name": "python",
   "nbconvert_exporter": "python",
   "pygments_lexer": "ipython3",
   "version": "3.12.2"
  }
 },
 "nbformat": 4,
 "nbformat_minor": 5
}
